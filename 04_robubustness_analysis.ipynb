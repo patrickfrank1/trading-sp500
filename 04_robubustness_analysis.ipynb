{
 "cells": [
  {
   "cell_type": "code",
   "execution_count": 1,
   "metadata": {},
   "outputs": [],
   "source": [
    "from datetime import datetime, timedelta\n",
    "import pandas as pd\n",
    "import numpy as np\n",
    "import matplotlib.pyplot as plt\n",
    "from matplotlib import cm\n",
    "\n",
    "from util_kelly import simulate_kelly_strategy, StockMarketData, plot_strategy"
   ]
  },
  {
   "cell_type": "code",
   "execution_count": 2,
   "metadata": {},
   "outputs": [],
   "source": [
    "def optimized_kelly_strategy(data):\n",
    "    return simulate_kelly_strategy(data, rebalancing_interval=1, annual_risk_free_rate=0.02,\\\n",
    "     window=350, min_kelly=0, max_kelly=10, kelly_fraction=0.4)"
   ]
  },
  {
   "cell_type": "code",
   "execution_count": 3,
   "metadata": {},
   "outputs": [],
   "source": [
    "def backtest_kelly_strategy(kelly_strategy, number_repeats=100, investment_horizon=5040):\n",
    "    DATE_MAX = pd.Timestamp(2022, 2, 14).to_pydatetime() + timedelta(days=-investment_horizon)\n",
    "    year_range = [1885, DATE_MAX.year]\n",
    "    month_range = [1, 12]\n",
    "    day_range = [1, 28]\n",
    "    PATH_TO_CSV = 'data/spx_day.csv'\n",
    "    simulation_data = StockMarketData(PATH_TO_CSV, parse_dates=['Date'], infer_datetime_format=True, index_col=0)\n",
    "\n",
    "    simulation_history = []\n",
    "    summary_statistics = pd.DataFrame()\n",
    "    date = [None for _ in range(number_repeats)]\n",
    "    strategy_cumulative_returns = np.empty((number_repeats))\n",
    "    standard_cumulative_returns = np.empty((number_repeats))\n",
    "\n",
    "    for i in range(number_repeats):\n",
    "        start_year = np.random.randint(year_range[0], year_range[1])\n",
    "        start_month = np.random.randint(month_range[0], month_range[1])\n",
    "        start_day = np.random.randint(day_range[0], day_range[1])\n",
    "        start_date = pd.Timestamp(start_year, start_month, start_day).to_pydatetime()\n",
    "        end_date = start_date + timedelta(days=investment_horizon)\n",
    "        # run simulation\n",
    "        simulation_data.restrict_date(start_date=start_date, end_date=end_date)\n",
    "        returns = kelly_strategy(simulation_data.get_data())\n",
    "        # collect simulation history\n",
    "        tmp_simulation_history = pd.DataFrame()\n",
    "        tmp_simulation_history[f\"date_{i}\"] = returns['Date']\n",
    "        tmp_simulation_history[f\"strategy_cum_returns_{i}\"] = returns[\"strategy_cum_returns\"]\n",
    "        tmp_simulation_history[f\"cum_returns_{i}\"] = returns[\"cum_returns\"]\n",
    "        simulation_history.append(returns)\n",
    "        #if i == 0:\n",
    "        #    simulation_history = tmp_simulation_history\n",
    "        #else:\n",
    "        #    simulation_history = pd.concat([simulation_history, tmp_simulation_history], axis=1)\n",
    "        # collect summary statistics\n",
    "        date[i] = start_date\n",
    "        strategy_cumulative_returns[i] = returns[\"strategy_cum_returns\"].iloc[-1]\n",
    "        standard_cumulative_returns[i] = returns[\"cum_returns\"].iloc[-1]\n",
    "    \n",
    "    summary_statistics['date'] = date\n",
    "    summary_statistics['strategy_cum_returns'] = strategy_cumulative_returns\n",
    "    summary_statistics['cum_returns'] = standard_cumulative_returns\n",
    "\n",
    "    return simulation_history, summary_statistics"
   ]
  },
  {
   "cell_type": "code",
   "execution_count": 4,
   "metadata": {},
   "outputs": [
    {
     "name": "stderr",
     "output_type": "stream",
     "text": [
      "/home/pafrank/anaconda3/envs/trading-sp500/lib/python3.9/site-packages/pandas/core/arraylike.py:397: RuntimeWarning: invalid value encountered in log\n",
      "  result = getattr(ufunc, method)(*inputs, **kwargs)\n"
     ]
    }
   ],
   "source": [
    "PATH_TO_CSV = 'data/spx_day.csv'\n",
    "simulation_data = StockMarketData(PATH_TO_CSV, parse_dates=['Date'], infer_datetime_format=True, index_col=0)\n",
    "base = simulate_kelly_strategy(simulation_data.get_data(), rebalancing_interval=1, annual_risk_free_rate=0.02,\\\n",
    "     window=350, min_kelly=0, max_kelly=100, kelly_fraction=1.0)"
   ]
  },
  {
   "cell_type": "code",
   "execution_count": 5,
   "metadata": {},
   "outputs": [],
   "source": [
    "history, summary_statistics = backtest_kelly_strategy(optimized_kelly_strategy)"
   ]
  },
  {
   "cell_type": "code",
   "execution_count": 6,
   "metadata": {},
   "outputs": [
    {
     "data": {
      "text/html": [
       "<div>\n",
       "<style scoped>\n",
       "    .dataframe tbody tr th:only-of-type {\n",
       "        vertical-align: middle;\n",
       "    }\n",
       "\n",
       "    .dataframe tbody tr th {\n",
       "        vertical-align: top;\n",
       "    }\n",
       "\n",
       "    .dataframe thead th {\n",
       "        text-align: right;\n",
       "    }\n",
       "</style>\n",
       "<table border=\"1\" class=\"dataframe\">\n",
       "  <thead>\n",
       "    <tr style=\"text-align: right;\">\n",
       "      <th></th>\n",
       "      <th>strategy_cum_returns</th>\n",
       "      <th>cum_returns</th>\n",
       "    </tr>\n",
       "  </thead>\n",
       "  <tbody>\n",
       "    <tr>\n",
       "      <th>count</th>\n",
       "      <td>100.000000</td>\n",
       "      <td>100.000000</td>\n",
       "    </tr>\n",
       "    <tr>\n",
       "      <th>mean</th>\n",
       "      <td>0.887966</td>\n",
       "      <td>0.732065</td>\n",
       "    </tr>\n",
       "    <tr>\n",
       "      <th>std</th>\n",
       "      <td>1.029944</td>\n",
       "      <td>0.556419</td>\n",
       "    </tr>\n",
       "    <tr>\n",
       "      <th>min</th>\n",
       "      <td>-0.958344</td>\n",
       "      <td>-0.868692</td>\n",
       "    </tr>\n",
       "    <tr>\n",
       "      <th>25%</th>\n",
       "      <td>-0.006228</td>\n",
       "      <td>0.336830</td>\n",
       "    </tr>\n",
       "    <tr>\n",
       "      <th>50%</th>\n",
       "      <td>0.729299</td>\n",
       "      <td>0.668765</td>\n",
       "    </tr>\n",
       "    <tr>\n",
       "      <th>75%</th>\n",
       "      <td>1.785892</td>\n",
       "      <td>1.174030</td>\n",
       "    </tr>\n",
       "    <tr>\n",
       "      <th>max</th>\n",
       "      <td>3.127758</td>\n",
       "      <td>1.963144</td>\n",
       "    </tr>\n",
       "  </tbody>\n",
       "</table>\n",
       "</div>"
      ],
      "text/plain": [
       "       strategy_cum_returns  cum_returns\n",
       "count            100.000000   100.000000\n",
       "mean               0.887966     0.732065\n",
       "std                1.029944     0.556419\n",
       "min               -0.958344    -0.868692\n",
       "25%               -0.006228     0.336830\n",
       "50%                0.729299     0.668765\n",
       "75%                1.785892     1.174030\n",
       "max                3.127758     1.963144"
      ]
     },
     "execution_count": 6,
     "metadata": {},
     "output_type": "execute_result"
    }
   ],
   "source": [
    "summary_statistics.describe()"
   ]
  },
  {
   "cell_type": "code",
   "execution_count": 7,
   "metadata": {},
   "outputs": [
    {
     "data": {
      "text/plain": [
       "<AxesSubplot:>"
      ]
     },
     "execution_count": 7,
     "metadata": {},
     "output_type": "execute_result"
    },
    {
     "data": {
      "image/png": "[encoded data removed]",
      "text/plain": [
       "<Figure size 432x288 with 1 Axes>"
      ]
     },
     "metadata": {
      "needs_background": "light"
     },
     "output_type": "display_data"
    }
   ],
   "source": [
    "summary_statistics.boxplot(column=['strategy_cum_returns', 'cum_returns'])"
   ]
  },
  {
   "cell_type": "code",
   "execution_count": 8,
   "metadata": {},
   "outputs": [
    {
     "ename": "AttributeError",
     "evalue": "'list' object has no attribute 'describe'",
     "output_type": "error",
     "traceback": [
      "\u001b[0;31m---------------------------------------------------------------------------\u001b[0m",
      "\u001b[0;31mAttributeError\u001b[0m                            Traceback (most recent call last)",
      "\u001b[0;32m/tmp/ipykernel_35217/3290128819.py\u001b[0m in \u001b[0;36m<module>\u001b[0;34m\u001b[0m\n\u001b[0;32m----> 1\u001b[0;31m \u001b[0mhistory\u001b[0m\u001b[0;34m.\u001b[0m\u001b[0mdescribe\u001b[0m\u001b[0;34m(\u001b[0m\u001b[0;34m)\u001b[0m\u001b[0;34m\u001b[0m\u001b[0;34m\u001b[0m\u001b[0m\n\u001b[0m",
      "\u001b[0;31mAttributeError\u001b[0m: 'list' object has no attribute 'describe'"
     ]
    }
   ],
   "source": [
    "history.describe()"
   ]
  },
  {
   "cell_type": "code",
   "execution_count": 10,
   "metadata": {},
   "outputs": [],
   "source": [
    "#ax.plot(base['cum_returns'], label='base')\n",
    "for i in range(100):\n",
    "    fig, ax = plt.subplots(figsize=(12, 8), sharex=True)\n",
    "    #color = cm.get_cmap('gist_rainbow')(i)\n",
    "    for j in range(i):\n",
    "        ax.plot(history[j][\"strategy_cum_returns\"], color='grey', linewidth=0.5)\n",
    "        ax.plot(history[j][\"cum_returns\"], color='grey', linewidth=0.5)\n",
    "    ax.plot(history[i][\"strategy_cum_returns\"], color='red', linewidth=2)\n",
    "    ax.plot(history[i][\"cum_returns\"], color='blue', linewidth=2)\n",
    "    \n",
    "    plt.tight_layout()\n",
    "    plt.savefig(f'plots/hist{i:03d}')\n",
    "    plt.close()"
   ]
  },
  {
   "cell_type": "code",
   "execution_count": 15,
   "metadata": {},
   "outputs": [],
   "source": [
    "!convert -delay 100 -loop 1 plots/hist*.png simulation_runs.gif"
   ]
  },
  {
   "cell_type": "markdown",
   "metadata": {},
   "source": [
    "![SegmentLocal](simulation_runs.gif \"segment\")"
   ]
  }
 ],
 "metadata": {
  "interpreter": {
   "hash": "3400730885b8245f3a2085b9b5418d3e8085a95a61fdec48dc6c410c45874a71"
  },
  "kernelspec": {
   "display_name": "Python 3.9.7 ('trading-sp500')",
   "language": "python",
   "name": "python3"
  },
  "language_info": {
   "codemirror_mode": {
    "name": "ipython",
    "version": 3
   },
   "file_extension": ".py",
   "mimetype": "text/x-python",
   "name": "python",
   "nbconvert_exporter": "python",
   "pygments_lexer": "ipython3",
   "version": "3.9.7"
  },
  "orig_nbformat": 4
 },
 "nbformat": 4,
 "nbformat_minor": 2
}
