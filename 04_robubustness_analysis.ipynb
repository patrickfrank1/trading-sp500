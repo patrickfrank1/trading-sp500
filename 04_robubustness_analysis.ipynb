{
 "cells": [
  {
   "cell_type": "markdown",
   "metadata": {},
   "source": [
    "# Backtest the Kelly strategy for robustness"
   ]
  },
  {
   "cell_type": "code",
   "execution_count": 1,
   "metadata": {},
   "outputs": [],
   "source": [
    "import pandas as pd\n",
    "import matplotlib.pyplot as plt\n",
    "\n",
    "from util_kelly import simulate_kelly_strategy, backtest_kelly_strategy, generate_simulation_plots"
   ]
  },
  {
   "cell_type": "markdown",
   "metadata": {},
   "source": [
    "Here we want to backtest the Kelly Strategy from Notebook \"03_analysis_kelly_strategy.ipynb\" with parameters found to be near optimal. We will backtest against the historical S&P 500 data."
   ]
  },
  {
   "cell_type": "code",
   "execution_count": 3,
   "metadata": {},
   "outputs": [],
   "source": [
    "def optimized_kelly_strategy(data):\n",
    "    return simulate_kelly_strategy(data, rebalancing_interval=1, annual_risk_free_rate=0.02,\\\n",
    "     window=350, min_kelly=0, max_kelly=10, kelly_fraction=0.4)"
   ]
  },
  {
   "cell_type": "markdown",
   "metadata": {},
   "source": [
    "Test the strategy ove a horizon of 1, 2, 10, 20, 30 and 40 business years respectivly. We run the strategy on 1000 randomly picked starting dates."
   ]
  },
  {
   "cell_type": "code",
   "execution_count": 4,
   "metadata": {},
   "outputs": [],
   "source": [
    "investment_horizon = [252,504,2520,5040,7560,10080]\n",
    "summary_statistics = pd.DataFrame()\n",
    "histories = [None for _ in range(len(investment_horizon))]\n",
    "for i, horizon in enumerate(investment_horizon):\n",
    "    history, statistics = backtest_kelly_strategy(optimized_kelly_strategy, number_repeats=1000, investment_horizon=horizon)\n",
    "    summary_statistics[f\"date_{i}\"] = statistics['date']\n",
    "    summary_statistics[f\"strategy_cum_returns_{i}\"] = statistics['strategy_cum_returns']\n",
    "    summary_statistics[f\"cum_returns_{i}\"] = statistics['cum_returns']\n",
    "    histories[i] = history"
   ]
  },
  {
   "cell_type": "markdown",
   "metadata": {},
   "source": [
    "For the mathematically inclined people among you, the summary statistics are printed below."
   ]
  },
  {
   "cell_type": "code",
   "execution_count": 5,
   "metadata": {},
   "outputs": [
    {
     "data": {
      "text/html": [
       "<div>\n",
       "<style scoped>\n",
       "    .dataframe tbody tr th:only-of-type {\n",
       "        vertical-align: middle;\n",
       "    }\n",
       "\n",
       "    .dataframe tbody tr th {\n",
       "        vertical-align: top;\n",
       "    }\n",
       "\n",
       "    .dataframe thead th {\n",
       "        text-align: right;\n",
       "    }\n",
       "</style>\n",
       "<table border=\"1\" class=\"dataframe\">\n",
       "  <thead>\n",
       "    <tr style=\"text-align: right;\">\n",
       "      <th></th>\n",
       "      <th>strategy_cum_returns_0</th>\n",
       "      <th>cum_returns_0</th>\n",
       "      <th>strategy_cum_returns_1</th>\n",
       "      <th>cum_returns_1</th>\n",
       "      <th>strategy_cum_returns_2</th>\n",
       "      <th>cum_returns_2</th>\n",
       "      <th>strategy_cum_returns_3</th>\n",
       "      <th>cum_returns_3</th>\n",
       "      <th>strategy_cum_returns_4</th>\n",
       "      <th>cum_returns_4</th>\n",
       "      <th>strategy_cum_returns_5</th>\n",
       "      <th>cum_returns_5</th>\n",
       "    </tr>\n",
       "  </thead>\n",
       "  <tbody>\n",
       "    <tr>\n",
       "      <th>count</th>\n",
       "      <td>1000.000000</td>\n",
       "      <td>1000.000000</td>\n",
       "      <td>1000.000000</td>\n",
       "      <td>1000.000000</td>\n",
       "      <td>1000.000000</td>\n",
       "      <td>1000.000000</td>\n",
       "      <td>1000.000000</td>\n",
       "      <td>1000.000000</td>\n",
       "      <td>1000.000000</td>\n",
       "      <td>1000.000000</td>\n",
       "      <td>1000.000000</td>\n",
       "      <td>1000.000000</td>\n",
       "    </tr>\n",
       "    <tr>\n",
       "      <th>mean</th>\n",
       "      <td>0.014802</td>\n",
       "      <td>0.032361</td>\n",
       "      <td>0.034029</td>\n",
       "      <td>0.071243</td>\n",
       "      <td>0.407200</td>\n",
       "      <td>0.329360</td>\n",
       "      <td>0.954783</td>\n",
       "      <td>0.667253</td>\n",
       "      <td>1.472705</td>\n",
       "      <td>0.996962</td>\n",
       "      <td>2.173798</td>\n",
       "      <td>1.343925</td>\n",
       "    </tr>\n",
       "    <tr>\n",
       "      <th>std</th>\n",
       "      <td>0.001302</td>\n",
       "      <td>0.161923</td>\n",
       "      <td>0.086775</td>\n",
       "      <td>0.216557</td>\n",
       "      <td>0.670896</td>\n",
       "      <td>0.410633</td>\n",
       "      <td>0.992819</td>\n",
       "      <td>0.567903</td>\n",
       "      <td>1.145927</td>\n",
       "      <td>0.683791</td>\n",
       "      <td>1.301680</td>\n",
       "      <td>0.780351</td>\n",
       "    </tr>\n",
       "    <tr>\n",
       "      <th>min</th>\n",
       "      <td>0.007622</td>\n",
       "      <td>-0.884239</td>\n",
       "      <td>-0.393146</td>\n",
       "      <td>-1.332137</td>\n",
       "      <td>-0.859911</td>\n",
       "      <td>-0.841892</td>\n",
       "      <td>-1.208614</td>\n",
       "      <td>-1.002910</td>\n",
       "      <td>-0.850206</td>\n",
       "      <td>-0.604823</td>\n",
       "      <td>-0.634991</td>\n",
       "      <td>-0.667829</td>\n",
       "    </tr>\n",
       "    <tr>\n",
       "      <th>25%</th>\n",
       "      <td>0.013595</td>\n",
       "      <td>-0.059068</td>\n",
       "      <td>0.027170</td>\n",
       "      <td>-0.044950</td>\n",
       "      <td>-0.089683</td>\n",
       "      <td>0.015077</td>\n",
       "      <td>0.098360</td>\n",
       "      <td>0.226048</td>\n",
       "      <td>0.488644</td>\n",
       "      <td>0.458755</td>\n",
       "      <td>1.221514</td>\n",
       "      <td>0.646929</td>\n",
       "    </tr>\n",
       "    <tr>\n",
       "      <th>50%</th>\n",
       "      <td>0.013909</td>\n",
       "      <td>0.051754</td>\n",
       "      <td>0.027346</td>\n",
       "      <td>0.093249</td>\n",
       "      <td>0.222487</td>\n",
       "      <td>0.324720</td>\n",
       "      <td>0.827413</td>\n",
       "      <td>0.613627</td>\n",
       "      <td>1.551284</td>\n",
       "      <td>0.941680</td>\n",
       "      <td>2.535668</td>\n",
       "      <td>1.507477</td>\n",
       "    </tr>\n",
       "    <tr>\n",
       "      <th>75%</th>\n",
       "      <td>0.016109</td>\n",
       "      <td>0.140804</td>\n",
       "      <td>0.032219</td>\n",
       "      <td>0.217041</td>\n",
       "      <td>0.864695</td>\n",
       "      <td>0.651680</td>\n",
       "      <td>1.838582</td>\n",
       "      <td>1.139132</td>\n",
       "      <td>2.518518</td>\n",
       "      <td>1.507545</td>\n",
       "      <td>3.047576</td>\n",
       "      <td>2.018746</td>\n",
       "    </tr>\n",
       "    <tr>\n",
       "      <th>max</th>\n",
       "      <td>0.016581</td>\n",
       "      <td>0.605294</td>\n",
       "      <td>0.550609</td>\n",
       "      <td>0.790476</td>\n",
       "      <td>2.663688</td>\n",
       "      <td>1.275383</td>\n",
       "      <td>3.125467</td>\n",
       "      <td>2.029106</td>\n",
       "      <td>3.654265</td>\n",
       "      <td>2.701678</td>\n",
       "      <td>4.458851</td>\n",
       "      <td>2.799810</td>\n",
       "    </tr>\n",
       "  </tbody>\n",
       "</table>\n",
       "</div>"
      ],
      "text/plain": [
       "       strategy_cum_returns_0  cum_returns_0  strategy_cum_returns_1  \\\n",
       "count             1000.000000    1000.000000             1000.000000   \n",
       "mean                 0.014802       0.032361                0.034029   \n",
       "std                  0.001302       0.161923                0.086775   \n",
       "min                  0.007622      -0.884239               -0.393146   \n",
       "25%                  0.013595      -0.059068                0.027170   \n",
       "50%                  0.013909       0.051754                0.027346   \n",
       "75%                  0.016109       0.140804                0.032219   \n",
       "max                  0.016581       0.605294                0.550609   \n",
       "\n",
       "       cum_returns_1  strategy_cum_returns_2  cum_returns_2  \\\n",
       "count    1000.000000             1000.000000    1000.000000   \n",
       "mean        0.071243                0.407200       0.329360   \n",
       "std         0.216557                0.670896       0.410633   \n",
       "min        -1.332137               -0.859911      -0.841892   \n",
       "25%        -0.044950               -0.089683       0.015077   \n",
       "50%         0.093249                0.222487       0.324720   \n",
       "75%         0.217041                0.864695       0.651680   \n",
       "max         0.790476                2.663688       1.275383   \n",
       "\n",
       "       strategy_cum_returns_3  cum_returns_3  strategy_cum_returns_4  \\\n",
       "count             1000.000000    1000.000000             1000.000000   \n",
       "mean                 0.954783       0.667253                1.472705   \n",
       "std                  0.992819       0.567903                1.145927   \n",
       "min                 -1.208614      -1.002910               -0.850206   \n",
       "25%                  0.098360       0.226048                0.488644   \n",
       "50%                  0.827413       0.613627                1.551284   \n",
       "75%                  1.838582       1.139132                2.518518   \n",
       "max                  3.125467       2.029106                3.654265   \n",
       "\n",
       "       cum_returns_4  strategy_cum_returns_5  cum_returns_5  \n",
       "count    1000.000000             1000.000000    1000.000000  \n",
       "mean        0.996962                2.173798       1.343925  \n",
       "std         0.683791                1.301680       0.780351  \n",
       "min        -0.604823               -0.634991      -0.667829  \n",
       "25%         0.458755                1.221514       0.646929  \n",
       "50%         0.941680                2.535668       1.507477  \n",
       "75%         1.507545                3.047576       2.018746  \n",
       "max         2.701678                4.458851       2.799810  "
      ]
     },
     "execution_count": 5,
     "metadata": {},
     "output_type": "execute_result"
    }
   ],
   "source": [
    "summary_statistics.describe()"
   ]
  },
  {
   "cell_type": "markdown",
   "metadata": {},
   "source": [
    "We can see that the Kelly strategy is expected to statistically outperform buy and hold after 20 years, since that is the first time the median cumulative return of the Kelly strategy beats Buy and Hold. We can also see that the risk of running the Kelly strategy is always significantly higher than Buy and Hold (much greater standard deviation)."
   ]
  },
  {
   "cell_type": "markdown",
   "metadata": {},
   "source": [
    "Now for the visually inclined people the boxplot graphic below. The box shows the range of the 1st to 3rd quartile, the bracket shows the standard deviation the green dotted line shows the median and the orange line shows the mean. The circles outside the boxes represent outliers."
   ]
  },
  {
   "cell_type": "code",
   "execution_count": 6,
   "metadata": {},
   "outputs": [
    {
     "data": {
      "image/png": "[encoded data removed]",
      "text/plain": [
       "<Figure size 1440x576 with 2 Axes>"
      ]
     },
     "metadata": {
      "needs_background": "light"
     },
     "output_type": "display_data"
    },
    {
     "data": {
      "text/plain": [
       "<Figure size 432x288 with 0 Axes>"
      ]
     },
     "metadata": {},
     "output_type": "display_data"
    }
   ],
   "source": [
    "fig, ax = plt.subplots(1,2, figsize=(20, 8), sharey=True)\n",
    "baseline = pd.DataFrame()\n",
    "strategy = pd.DataFrame()\n",
    "for i, horizon in enumerate(investment_horizon):\n",
    "    baseline[f\"{horizon//252} years\"] = summary_statistics[f\"cum_returns_{i}\"] * 100.0\n",
    "    strategy[f\"{horizon//252} years\"] = summary_statistics[f\"strategy_cum_returns_{i}\"] * 100.0\n",
    "\n",
    "ax[0].boxplot(baseline, showfliers=True, showmeans=True, meanline=True, widths=0.5, labels=baseline.columns)\n",
    "ax[1].boxplot(strategy, showfliers=True, showmeans=True, meanline=True, widths=0.5, labels=strategy.columns)\n",
    "\n",
    "ax[0].set_ylabel('Returns (%)')\n",
    "ax[0].set_xlabel('Investment Horizon')\n",
    "ax[0].set_title(\"Buy and hold cumulative returns for different investment horizons\")\n",
    "ax[0].grid(True)\n",
    "ax[1].set_xlabel('Investment Horizon')\n",
    "ax[1].set_title(\"Strategy cumulative returns for different investment horizons\")\n",
    "ax[1].grid(True)\n",
    "plt.tight_layout()\n",
    "plt.show()\n",
    "plt.savefig('plots/boxplot_cumulative_returns.png')"
   ]
  },
  {
   "cell_type": "markdown",
   "metadata": {},
   "source": [
    "And now for good measure, I show you some of the simulation runs for the 20 year investment horizon."
   ]
  },
  {
   "cell_type": "code",
   "execution_count": 8,
   "metadata": {},
   "outputs": [],
   "source": [
    "history = histories[3] # 20 year simulation\n",
    "max_samples = 100\n",
    "generate_simulation_plots(history, max_samples=max_samples, filename=\"horizon_20y\")"
   ]
  },
  {
   "cell_type": "code",
   "execution_count": 9,
   "metadata": {},
   "outputs": [],
   "source": [
    "!convert -delay 66 -loop 10 plots/tmp/horizon_20y*.png plots/horizon_20y.gif"
   ]
  },
  {
   "cell_type": "markdown",
   "metadata": {},
   "source": [
    "![SegmentLocal](plots/horizon_20y.gif)"
   ]
  },
  {
   "cell_type": "markdown",
   "metadata": {},
   "source": []
  }
 ],
 "metadata": {
  "interpreter": {
   "hash": "3400730885b8245f3a2085b9b5418d3e8085a95a61fdec48dc6c410c45874a71"
  },
  "kernelspec": {
   "display_name": "Python 3.9.7 ('trading-sp500')",
   "language": "python",
   "name": "python3"
  },
  "language_info": {
   "codemirror_mode": {
    "name": "ipython",
    "version": 3
   },
   "file_extension": ".py",
   "mimetype": "text/x-python",
   "name": "python",
   "nbconvert_exporter": "python",
   "pygments_lexer": "ipython3",
   "version": "3.9.7"
  },
  "orig_nbformat": 4
 },
 "nbformat": 4,
 "nbformat_minor": 2
}
