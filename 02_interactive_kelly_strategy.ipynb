{
 "cells": [
  {
   "cell_type": "markdown",
   "metadata": {},
   "source": [
    "If you run this notebook in google colab, make sure you have installed all required dependencies running the line below."
   ]
  },
  {
   "cell_type": "code",
   "execution_count": null,
   "metadata": {},
   "outputs": [],
   "source": [
    "%pip install -r requirements.txt"
   ]
  },
  {
   "cell_type": "markdown",
   "metadata": {},
   "source": [
    "And if you havent previously, download the historical data with one of the commands below."
   ]
  },
  {
   "cell_type": "code",
   "execution_count": 6,
   "metadata": {
    "vscode": {
     "languageId": "shellscript"
    }
   },
   "outputs": [
    {
     "name": "stdout",
     "output_type": "stream",
     "text": [
      "  % Total    % Received % Xferd  Average Speed   Time    Time     Time  Current\n",
      "                                 Dload  Upload   Total   Spent    Left  Speed\n",
      "100 1525k    0 1525k    0     0   653k      0 --:--:--  0:00:02 --:--:--  653k\n"
     ]
    }
   ],
   "source": [
    "!curl 'https://stooq.com/q/d/l/?s=^spx&i=d&c=1' \\\n",
    "  -H 'Connection: keep-alive' \\\n",
    "  -H 'Upgrade-Insecure-Requests: 1' \\\n",
    "  -H 'User-Agent: Mozilla/5.0 (X11; Linux x86_64) AppleWebKit/537.36 (KHTML, like Gecko) Chrome/98.0.4758.87 Safari/537.36' \\\n",
    "  -H 'Accept: text/html,application/xhtml+xml,application/xml;q=0.9,image/avif,image/webp,image/apng,*/*;q=0.8,application/signed-exchange;v=b3;q=0.9' \\\n",
    "  -H 'Sec-GPC: 1' \\\n",
    "  -H 'Sec-Fetch-Site: none' \\\n",
    "  -H 'Sec-Fetch-Mode: navigate' \\\n",
    "  -H 'Sec-Fetch-User: ?1' \\\n",
    "  -H 'Sec-Fetch-Dest: document' \\\n",
    "  -H 'Accept-Language: en-US,en;q=0.9,de-DE;q=0.8,de;q=0.7' \\\n",
    "  --compressed > data/spx_day.csv"
   ]
  },
  {
   "cell_type": "code",
   "execution_count": 7,
   "metadata": {
    "vscode": {
     "languageId": "shellscript"
    }
   },
   "outputs": [],
   "source": [
    "!wget -O data/spx_day.csv https://stooq.com/q/d/l/?s=^spx&i=d&c=1"
   ]
  },
  {
   "cell_type": "code",
   "execution_count": 1,
   "metadata": {},
   "outputs": [],
   "source": [
    "from datetime import datetime\n",
    "import pandas as pd\n",
    "import numpy as np\n",
    "import matplotlib.pyplot as plt\n",
    "import ipywidgets as widgets\n",
    "\n",
    "from util_kelly import simulate_kelly_strategy, StockMarketData, string_padding"
   ]
  },
  {
   "cell_type": "markdown",
   "metadata": {},
   "source": [
    "# Betting on the S&P 500 using the Kelly Criterion"
   ]
  },
  {
   "cell_type": "markdown",
   "metadata": {},
   "source": [
    "First load the data from your source csv file. The CSV should contain the stock price and a time stamp. Here we use the historical daily closing price for the S&P 500 index from 17th of February 1885 to 10th of february 2022. Please refer to notebook \"01_data_analysis.ipynb\" for further instructions.\n",
    "\n",
    "You can set the time interval that you want to analyse interactively."
   ]
  },
  {
   "cell_type": "code",
   "execution_count": 2,
   "metadata": {},
   "outputs": [
    {
     "data": {
      "application/vnd.jupyter.widget-view+json": {
       "model_id": "8d7b3baf26e04574a0d2f9d7b03e9285",
       "version_major": 2,
       "version_minor": 0
      },
      "text/plain": [
       "interactive(children=(DatePicker(value=datetime.datetime(1993, 1, 1, 0, 0), description='Start date'), DatePic…"
      ]
     },
     "metadata": {},
     "output_type": "display_data"
    }
   ],
   "source": [
    "DATE_MIN_BLOG = pd.Timestamp(1993, 1, 1).to_pydatetime()\n",
    "DATE_MAX_BLOG = pd.Timestamp(2020, 12, 31).to_pydatetime()\n",
    "PATH_TO_CSV = 'data/spx_day.csv'\n",
    "simulation_data = StockMarketData(PATH_TO_CSV, parse_dates=['Date'], infer_datetime_format=True, index_col=0)\n",
    "\n",
    "@widgets.interact(\n",
    "    start_date=widgets.DatePicker(description='Start date', disabled=False, value=DATE_MIN_BLOG, continuous_update=False),\n",
    "    end_date=widgets.DatePicker(description='End date', disabled=False, value=DATE_MAX_BLOG, continuous_update=False)\n",
    ")\n",
    "def load_data(start_date, end_date, simulation_data=widgets.fixed(simulation_data)):\n",
    "    simulation_data.restrict_date(start_date, end_date)\n",
    "    print(simulation_data.data)"
   ]
  },
  {
   "cell_type": "markdown",
   "metadata": {},
   "source": [
    "The investment strategy that is discussed here leverages fixed-period bets on the same asset, betting a variable fraction of the portfolio determined by the Kelly Criterion. The Kelly Fraction is defined as\n",
    "\n",
    "$$ k = \\frac{\\mu - r}{sigma^2} $$\n",
    "\n",
    "where $r$ is the risk-free rate, $\\sigma$ is the standard deviation of returns, and $\\mu$ is the mean return of the asset. In practice we estimate the mean and standard deviation of returns from a sample of historical returns.\n",
    "\n",
    "$$ k_w = \\frac{\\mu_w - r}{\\sigma_w^2} $$\n",
    "\n",
    "and $w$ is the window size, that is the number of timesteps into the past used for the estimation of parameters $\\mu_w$ and $\\sigma_w$. For example\n",
    "\n",
    "$$ \\mu_w = \\frac{1}{w} \\sum_{i=1}^w return_{today - i}$$"
   ]
  },
  {
   "cell_type": "markdown",
   "metadata": {},
   "source": [
    "Now we can start the interactive session. You can tune the following parameters:\n",
    "\n",
    "- Window size : number of days that you want to look back to calculate the Kelly Factor\n",
    "- Rebalancing interval: number of days that you want to wait before rebalancing your portfolio\n",
    "- Minimum Kelly Factor: lower bound for the Kelly Factor\n",
    "- Maximum Kelly Factor: upper bound for the Kelly Factor\n",
    "- Kelly Fraction: Fraction of the Kelly Factor to use for investment into equity\n",
    "\n",
    "and see how your strategy compares to simply buying and holding the S&P 500."
   ]
  },
  {
   "cell_type": "code",
   "execution_count": 3,
   "metadata": {},
   "outputs": [
    {
     "data": {
      "application/vnd.jupyter.widget-view+json": {
       "model_id": "17581bef43524d96b874496213ecb7fa",
       "version_major": 2,
       "version_minor": 0
      },
      "text/plain": [
       "interactive(children=(IntSlider(value=252, description='Window size........................', layout=Layout(wi…"
      ]
     },
     "metadata": {},
     "output_type": "display_data"
    }
   ],
   "source": [
    "style = {'description_width': 'initial'}\n",
    "layout=widgets.Layout(width='500px')\n",
    "@widgets.interact(\n",
    "    window=widgets.IntSlider(min=1, max=1008, step=10, value=252, description=string_padding('Window size', 35), style=style, layout=layout),\n",
    "    rebalancing_interval=widgets.IntSlider(min=1, max=30, step=1, value=1, description=string_padding('Rebalancing Interval',30), style=style, layout=layout),\n",
    "    min_kelly=widgets.FloatSlider(min=-1, max=1, step=0.1, value=0, description=string_padding('Minimum Kelly Factor',29), style=style, layout=layout),\n",
    "    max_kelly=widgets.FloatLogSlider(min=0, max=2, step=0.1, value=3, description=string_padding('Maximum Kelly Factor',28), style=style, layout=layout),\n",
    "    kelly_fraction=widgets.FloatSlider(min=0, max=1, step=0.05, value=1, description=string_padding('Kelly Fraction',30), style=style, layout=layout)\n",
    ")\n",
    "def adjust_parameters(data=widgets.fixed(simulation_data), window=252, rebalancing_interval=1, min_kelly=0, max_kelly=3, kelly_fraction=1.0):\n",
    "\n",
    "    k_cap = simulate_kelly_strategy(\n",
    "        data.get_data(),\n",
    "        rebalancing_interval=rebalancing_interval,\n",
    "        kelly_fraction=kelly_fraction,\n",
    "        window=window,\n",
    "        min_kelly=min_kelly,\n",
    "        max_kelly=max_kelly\n",
    "    )\n",
    "\n",
    "    fig, ax = plt.subplots(2, figsize=(18, 8), sharex=True)\n",
    "    ax[0].plot(np.exp(k_cap['cum_returns']) * 100, label='Buy and Hold')\n",
    "    ax[0].plot(np.exp(k_cap['strategy_cum_returns']) * 100, label='Kelly Model')\n",
    "    ax[0].set_ylabel('Returns (%)')\n",
    "    ax[0].set_title('Buy-and-hold vs. Rebalancing with Kelly Sizing')\n",
    "    ax[0].legend()\n",
    "\n",
    "    ax[1].plot(k_cap['kelly_fraction'])\n",
    "    ax[1].set_ylabel('Leverage')\n",
    "    ax[1].set_xlabel('Date')\n",
    "    ax[1].set_title(f'Kelly Fraction (= Kelly Factor * {kelly_fraction})')\n",
    "\n",
    "    plt.tight_layout()\n",
    "    plt.show()\n"
   ]
  },
  {
   "cell_type": "markdown",
   "metadata": {},
   "source": [
    "In the notebook '03_analysis_kelly_strategy.ipynb' I summarise my main findings."
   ]
  }
 ],
 "metadata": {
  "kernelspec": {
   "display_name": "Python 3.8.10 ('trading-sp500-Qq4wBuVg-py3.8')",
   "language": "python",
   "name": "python3"
  },
  "language_info": {
   "codemirror_mode": {
    "name": "ipython",
    "version": 3
   },
   "file_extension": ".py",
   "mimetype": "text/x-python",
   "name": "python",
   "nbconvert_exporter": "python",
   "pygments_lexer": "ipython3",
   "version": "3.8.10"
  },
  "orig_nbformat": 4,
  "vscode": {
   "interpreter": {
    "hash": "01bf051466fa5c178fdf754e45b3e74c4e443b9525c8074671f9d13bb7e397b1"
   }
  }
 },
 "nbformat": 4,
 "nbformat_minor": 2
}
